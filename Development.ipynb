{
 "cells": [
  {
   "cell_type": "code",
   "execution_count": null,
   "metadata": {},
   "outputs": [],
   "source": [
    "import os\n",
    "import re\n",
    "import copy\n",
    "import pickle\n",
    "import datetime\n",
    "\n",
    "import numpy as np\n",
    "import matplotlib.pyplot as plt\n",
    "from skimage.measure import block_reduce\n",
    "from skimage.transform import resize\n",
    "\n",
    "import importlib\n",
    "from IPython.display import clear_output\n",
    "\n",
    "import data_utils\n",
    "from CGAN import CGAN\n",
    "from Params import Params"
   ]
  },
  {
   "cell_type": "markdown",
   "metadata": {},
   "source": [
    "## Load and preprocess the data"
   ]
  },
  {
   "cell_type": "raw",
   "metadata": {},
   "source": [
    "importlib.reload(data_utils);\n",
    "\n",
    "# Load the data and store in dictionary\n",
    "data_table = data_utils.load_data(\"/Users/jkamalu/Downloads/BosphorusDB\")\n",
    "\n",
    "# Extract lists from dictionary and create inverse index\n",
    "lookup_table, landmarks, face_data = data_utils.convert_data(data_table)\n",
    "\n",
    "# Trim the data of oversized images\n",
    "lookup_table, landmarks, face_data = trim_data(lookup_table, landmarks, face_data, h_cut=280, w_cut=210)\n",
    "\n",
    "# Analyze data shape distribution\n",
    "analyze_shape(face_data, 280, 210)\n",
    "\n",
    "# Pad the face data to max width and height\n",
    "face_data = data_utils.padding_data(face_data)\n",
    "\n",
    "# Convert to numpy arrays\n",
    "face_data = np.stack(face_data)\n",
    "landmarks = np.array(landmarks)\n",
    "\n",
    "# Adjust and scale all channels\n",
    "scaler, face_data = data_utils.scaling_data(face_data)\n",
    "\n",
    "# Visualize the face data before resizing and downsampling\n",
    "data_utils.visualize_z(face_data, z_channel=2)\n",
    "\n",
    "# Resize and downsample the images to 80 x 60 from 280, 210\n",
    "face_data = resize(face_data, (face_data.shape[0], 264, 192, face_data.shape[3]), preserve_range=True, mode=\"constant\", anti_aliasing=True)\n",
    "face_data = block_reduce(face_data, block_size=(1, 3, 3, 1), func=np.max)\n",
    "\n",
    "# Visualize the face data after resizing and downsampling\n",
    "data_utils.visualize_z(face_data, z_channel=2)"
   ]
  },
  {
   "cell_type": "code",
   "execution_count": null,
   "metadata": {},
   "outputs": [],
   "source": [
    "with open(\"./data/scaler.pkl\", \"rb\") as f:\n",
    "    scaler = pickle.load(f)\n",
    "with open(\"./data/table.pkl\", \"rb\") as f:\n",
    "    lookup_table = pickle.load(f)\n",
    "face_data = np.load(\"./data/face_data.npy\")\n",
    "landmarks = np.load(\"./data/landmarks.npy\")\n",
    "\n",
    "# Visualize the data\n",
    "data_utils.visualize_z(face_data, z_channel=2)"
   ]
  },
  {
   "cell_type": "markdown",
   "metadata": {},
   "source": [
    "## Train the model"
   ]
  },
  {
   "cell_type": "code",
   "execution_count": null,
   "metadata": {},
   "outputs": [],
   "source": [
    "X = face_data[:, :, :, 2:3]\n",
    "network = CGAN(Params(X))"
   ]
  },
  {
   "cell_type": "code",
   "execution_count": null,
   "metadata": {},
   "outputs": [],
   "source": [
    "def train(network, X, X_cond=None, train_steps=500, prev_steps=0, interval=5, suffix=None):\n",
    "    \n",
    "    for step in range(train_steps):\n",
    "\n",
    "        for i in range(Params.steps_D):\n",
    "            \n",
    "            indices = np.random.randint(X.shape[0], size=(Params.batch_size))\n",
    "            noise = np.random.uniform(size=(Params.batch_size, Params.n_rand))\n",
    "            if X_cond is None:\n",
    "                z = noise\n",
    "            else:\n",
    "                z = np.concatenate([noise, X_cond[indices]], axis=1)\n",
    "            X_real = X[indices]\n",
    "            X_fake = network.G.predict(z)\n",
    "            \n",
    "            X_D = np.concatenate((X_real, X_fake))\n",
    "            Y_D = np.concatenate((np.zeros((X_real.shape[0], 1)) + Params.real_l,\n",
    "                                  np.zeros((X_fake.shape[0], 1)) + Params.fake_l))\n",
    "            \n",
    "            loss_D, acc_D = network.D.train_on_batch(X_D, Y_D)            \n",
    "        \n",
    "        for i in range(Params.steps_GD):\n",
    "            X_GD = np.random.uniform(size=(Params.batch_size, Params.n_rand))\n",
    "            Y_GD = np.ones((X_GD.shape[0], 1))\n",
    "            loss_GD, acc_GD = network.GD.train_on_batch(X_GD, Y_GD)\n",
    "\n",
    "        if step % (5 * interval) == 0 and step > 0:\n",
    "            clear_output()\n",
    "\n",
    "        if step % interval == 0 and step > 0:\n",
    "            print(\"Step {}:\".format(step + prev_steps))\n",
    "            print()\n",
    "            data_utils.visualize_z(X_fake)\n",
    "            print()\n",
    "            print(\"Descriminator :: loss = {}, acc = {}\".format(loss_D, acc_D))\n",
    "            print(\"Adversarial   :: loss = {}, acc = {}\".format(loss_GD, acc_GD))\n",
    "\n",
    "    if suffix is None:\n",
    "        suffix = str(datetime.date.today())\n",
    "    with open(\"./models/CGAN-{}-{}.pkl\".format(prev_steps + train_steps, suffix), \"wb\") as f:\n",
    "        pickle.dump(network, f)"
   ]
  },
  {
   "cell_type": "code",
   "execution_count": null,
   "metadata": {},
   "outputs": [],
   "source": [
    "train(network, X)"
   ]
  },
  {
   "cell_type": "markdown",
   "metadata": {},
   "source": [
    "## Things to try\n",
    "\n",
    "* Penalize overconfidence by labeling real images with 0.9 (Better GAN training)\n",
    "\n",
    "* Switch to Adam optimizer (DCGAN paper)\n",
    "\n",
    "* Switch from max-pool and upsampling to convolution stride (DCGAN)\n",
    "\n",
    "* Add conditional data to random noise (consider label as one hot) to account for different topology of the data, impede \"averaging\" of faces w.r.t. facial expressions. (Info-GAN ??)\n",
    "\n",
    "* Remove dropout from generator (not done)\n",
    "\n",
    "* Make discriminator more complex (harder to learn, smarter, made same level as generator)"
   ]
  },
  {
   "cell_type": "code",
   "execution_count": null,
   "metadata": {
    "scrolled": false
   },
   "outputs": [],
   "source": [
    "for fname in sorted(os.listdir(\"./models/\")):\n",
    "    if fname.endswith(\".pkl\"):\n",
    "        with open(os.path.join(\"./models/\", fname), \"rb\") as f:\n",
    "            model = pickle.load(f)\n",
    "            X_fake = model.G.predict(np.random.uniform(size=(model.params.batch_size, model.params.n_rand)))\n",
    "            print(\"Model:\", fname)\n",
    "            data_utils.visualize_z(X_fake)\n",
    "            del model"
   ]
  }
 ],
 "metadata": {
  "kernelspec": {
   "display_name": "Python (automesh3)",
   "language": "python",
   "name": "automesh3"
  },
  "language_info": {
   "codemirror_mode": {
    "name": "ipython",
    "version": 3
   },
   "file_extension": ".py",
   "mimetype": "text/x-python",
   "name": "python",
   "nbconvert_exporter": "python",
   "pygments_lexer": "ipython3",
   "version": "3.6.6"
  }
 },
 "nbformat": 4,
 "nbformat_minor": 2
}
