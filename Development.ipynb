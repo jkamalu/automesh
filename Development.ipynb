{
 "cells": [
  {
   "cell_type": "code",
   "execution_count": null,
   "metadata": {},
   "outputs": [],
   "source": [
    "import os\n",
    "import re\n",
    "import copy\n",
    "import pickle\n",
    "import datetime\n",
    "from collections import deque\n",
    "\n",
    "import numpy as np\n",
    "import matplotlib.pyplot as plt\n",
    "from skimage.measure import block_reduce\n",
    "from skimage.transform import resize\n",
    "\n",
    "import importlib\n",
    "from IPython.display import clear_output\n",
    "\n",
    "import data_utils\n",
    "import CGAN\n",
    "import Params"
   ]
  },
  {
   "cell_type": "markdown",
   "metadata": {},
   "source": [
    "## Load and preprocess the data"
   ]
  },
  {
   "cell_type": "raw",
   "metadata": {},
   "source": [
    "importlib.reload(data_utils);\n",
    "\n",
    "# Load the data and store in dictionary\n",
    "data_table = data_utils.load_data(\"/Users/jkamalu/Downloads/BosphorusDB\")\n",
    "\n",
    "# Extract lists from dictionary and create inverse index\n",
    "lookup_table, landmarks, face_data = data_utils.convert_data(data_table)\n",
    "\n",
    "# Trim the data of oversized images\n",
    "lookup_table, landmarks, face_data = trim_data(lookup_table, landmarks, face_data, h_cut=280, w_cut=210)\n",
    "\n",
    "# Analyze data shape distribution\n",
    "analyze_shape(face_data, 280, 210)\n",
    "\n",
    "# Pad the face data to max width and height\n",
    "face_data = data_utils.padding_data(face_data)\n",
    "\n",
    "# Convert to numpy arrays\n",
    "face_data = np.stack(face_data)\n",
    "landmarks = np.array(landmarks)\n",
    "\n",
    "# Adjust and scale all channels\n",
    "scaler, face_data = data_utils.scaling_data(face_data)\n",
    "\n",
    "# Visualize the face data before resizing and downsampling\n",
    "data_utils.visualize_z(face_data, z_channel=2)\n",
    "\n",
    "# Resize and downsample the images to 80 x 60 from 280, 210\n",
    "face_data = resize(face_data, (face_data.shape[0], 264, 192, face_data.shape[3]), preserve_range=True, mode=\"constant\", anti_aliasing=True)\n",
    "face_data = block_reduce(face_data, block_size=(1, 3, 3, 1), func=np.max)\n",
    "\n",
    "# Visualize the face data after resizing and downsampling\n",
    "data_utils.visualize_z(face_data, z_channel=2)"
   ]
  },
  {
   "cell_type": "code",
   "execution_count": null,
   "metadata": {},
   "outputs": [],
   "source": [
    "with open(\"./data/scaler.pkl\", \"rb\") as f:\n",
    "    scaler = pickle.load(f)\n",
    "with open(\"./data/table.pkl\", \"rb\") as f:\n",
    "    lookup_table = pickle.load(f)\n",
    "face_data = np.load(\"./data/face_data.npy\")\n",
    "landmarks = np.load(\"./data/landmarks.npy\")\n",
    "labels = np.load(\"./data/labels.npy\")"
   ]
  },
  {
   "cell_type": "code",
   "execution_count": null,
   "metadata": {},
   "outputs": [],
   "source": [
    "# Visualize the data\n",
    "data_utils.visualize_z(face_data, z_channel=2)"
   ]
  },
  {
   "cell_type": "markdown",
   "metadata": {},
   "source": [
    "## Train the model"
   ]
  },
  {
   "cell_type": "code",
   "execution_count": null,
   "metadata": {},
   "outputs": [],
   "source": [
    "import CGAN\n",
    "import Params\n",
    "\n",
    "importlib.reload(Params);\n",
    "importlib.reload(CGAN);\n",
    "importlib.reload(data_utils);\n",
    "\n",
    "Params = Params.Params\n",
    "CGAN = CGAN.CGAN"
   ]
  },
  {
   "cell_type": "code",
   "execution_count": null,
   "metadata": {
    "scrolled": false
   },
   "outputs": [],
   "source": [
    "X = face_data[:, :, :, 2:3]\n",
    "X_cond = labels"
   ]
  },
  {
   "cell_type": "code",
   "execution_count": null,
   "metadata": {},
   "outputs": [],
   "source": [
    "def train(M, X, X_cond=None, train_steps=20, prev_steps=0, interval=5, suffix=\"Recent\"):\n",
    "    \n",
    "    with open(\"./models/CGAN-{}-config.txt\".format(suffix), \"wt\") as f:\n",
    "        f.write(str(M))\n",
    "    \n",
    "    history = {\n",
    "        \"loss_D_real\": [],\n",
    "        \"loss_D_fake\": [],\n",
    "        \"loss_GD\": [],\n",
    "        \"acc_D_real\": [],\n",
    "        \"acc_D_fake\": [],\n",
    "        \"acc_GD\": []\n",
    "    }\n",
    "    \n",
    "    for step in range(1, train_steps + 1):\n",
    "\n",
    "        # Train the discriminator\n",
    "        for i in range(M.params.steps_D):\n",
    "            \n",
    "            indices = np.random.randint(X.shape[0], size=(M.params.batch_size))\n",
    "            noise = np.random.uniform(size=(M.params.batch_size, M.params.n_rand))\n",
    "            if X_cond is None:\n",
    "                z = noise\n",
    "            else:\n",
    "                z = np.concatenate([noise, X_cond[indices]], axis=1)\n",
    "                \n",
    "            X_real = X[indices]\n",
    "            X_fake = M.G.predict(z)\n",
    "            \n",
    "            Y_real = np.zeros((X_real.shape[0], 1)) + M.params.real_l\n",
    "            Y_fake = np.zeros((X_fake.shape[0], 1)) + M.params.fake_l\n",
    "\n",
    "            loss_D_real, acc_D_real = M.D.train_on_batch(X_real, Y_real)\n",
    "            loss_D_fake, acc_D_fake = M.D.train_on_batch(X_fake, Y_fake)\n",
    "\n",
    "        # Train the generator\n",
    "        for i in range(M.params.steps_GD):\n",
    "            \n",
    "            noise = np.random.uniform(size=(M.params.batch_size, M.params.n_rand))\n",
    "            if X_cond is None:\n",
    "                X_GD = noise\n",
    "            else:\n",
    "                label_mat = np.zeros((M.params.batch_size, X_cond.shape[1]))\n",
    "                label_idx = np.random.randint(X_cond.shape[1], size=(M.params.batch_size))\n",
    "                label_mat[np.arange(M.params.batch_size), label_idx] = 1\n",
    "                X_GD = np.concatenate([noise, label_mat], axis=1)\n",
    "\n",
    "            Y_GD = np.zeros((X_GD.shape[0], 1)) + M.params.real_l\n",
    "            loss_GD, acc_GD = M.GD.train_on_batch(X_GD, Y_GD)\n",
    "            \n",
    "        # Update history for statistics\n",
    "        history[\"loss_D_real\"].append(loss_D_real)\n",
    "        history[\"loss_D_fake\"].append(loss_D_fake)\n",
    "        history[\"loss_GD\"].append(loss_GD)\n",
    "        history[\"acc_D_real\"].append(acc_D_real)\n",
    "        history[\"acc_D_fake\"].append(acc_D_fake)\n",
    "        history[\"acc_GD\"].append(acc_GD)\n",
    "\n",
    "        # Clear the display output and display window statistics (graph)\n",
    "        if step % (10 * interval) == 0:\n",
    "            clear_output(wait=True)\n",
    "            data_utils.visualize_history(history)\n",
    "\n",
    "        # Print window statistics\n",
    "        if step % interval == 0:\n",
    "            print(\"Step {}:\".format(step + prev_steps))\n",
    "\n",
    "            data_utils.visualize_z(X_fake)\n",
    "\n",
    "            print(\"Descriminator (real) :: loss = {}, acc = {}\".format(np.mean(history[\"loss_D_real\"][-10:]),\n",
    "                                                                       np.mean(history[\"acc_D_real\"][-10:])))\n",
    "            print(\"Descriminator (fake) :: loss = {}, acc = {}\".format(np.mean(history[\"loss_D_fake\"][-10:]),\n",
    "                                                                       np.mean(history[\"acc_D_fake\"][-10:])))\n",
    "            print(\"Adversarial          :: loss = {}, acc = {}\".format(np.mean(history[\"loss_GD\"][-10:]),\n",
    "                                                                       np.mean(history[\"acc_GD\"][-10:])))\n",
    "            print()\n",
    "        \n",
    "        if (step + prev_steps) % 500 == 0:\n",
    "            with open(\"./models/CGAN-{}-{}-model.pkl\".format(suffix, step + train_steps), \"wb\") as f:\n",
    "                pickle.dump(M, f)\n",
    "            with open(\"./models/CGAN-{}-{}-history.pkl\".format(suffix, step + train_steps), \"wb\") as f:\n",
    "                pickle.dump(history, f)\n",
    "\n",
    "    return history"
   ]
  },
  {
   "cell_type": "code",
   "execution_count": null,
   "metadata": {
    "scrolled": false
   },
   "outputs": [],
   "source": [
    "network = CGAN(Params(X))\n",
    "history = train(network, X, interval=10, train_steps=4000, prev_steps=0, suffix=\"dcgan_rand\")"
   ]
  },
  {
   "cell_type": "markdown",
   "metadata": {},
   "source": [
    "## Things to try\n",
    "\n",
    "* Penalize overconfidence by labeling real images with 0.9 (Better GAN training)\n",
    "\n",
    "* Switch to Adam optimizer (DCGAN paper)\n",
    "\n",
    "* Switch from max-pool and upsampling to convolution stride (DCGAN)\n",
    "\n",
    "* Add conditional data to random noise (consider label as one hot) to account for different topology of the data, impede \"averaging\" of faces w.r.t. facial expressions. (Info-GAN ??)\n",
    "\n",
    "* Remove dropout from generator (not done)\n",
    "\n",
    "* Make discriminator more complex (harder to learn, smarter, made same level as generator)"
   ]
  },
  {
   "cell_type": "code",
   "execution_count": null,
   "metadata": {
    "scrolled": false
   },
   "outputs": [],
   "source": [
    "for fname in sorted(os.listdir(\"./models/\")):\n",
    "    if fname.endswith(\".pkl\"):\n",
    "        with open(os.path.join(\"./models/\", fname), \"rb\") as f:\n",
    "            model = pickle.load(f)\n",
    "            X_fake = model.G.predict(np.random.uniform(size=(model.params.batch_size, model.params.n_rand)))\n",
    "            print(\"Model:\", fname)\n",
    "            data_utils.visualize_z(X_fake)\n",
    "            del model"
   ]
  }
 ],
 "metadata": {
  "kernelspec": {
   "display_name": "Python 3",
   "language": "python",
   "name": "python3"
  },
  "language_info": {
   "codemirror_mode": {
    "name": "ipython",
    "version": 3
   },
   "file_extension": ".py",
   "mimetype": "text/x-python",
   "name": "python",
   "nbconvert_exporter": "python",
   "pygments_lexer": "ipython3",
   "version": "3.7.1"
  }
 },
 "nbformat": 4,
 "nbformat_minor": 2
}
