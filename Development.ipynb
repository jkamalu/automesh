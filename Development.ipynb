{
 "cells": [
  {
   "cell_type": "code",
   "execution_count": null,
   "metadata": {},
   "outputs": [],
   "source": [
    "import os\n",
    "import re\n",
    "import copy\n",
    "import pickle\n",
    "\n",
    "import numpy as np\n",
    "import matplotlib.pyplot as plt\n",
    "from skimage.measure import block_reduce\n",
    "from skimage.transform import resize\n",
    "\n",
    "import importlib\n",
    "from IPython.display import clear_output\n",
    "\n",
    "import data_utils\n",
    "import CGAN"
   ]
  },
  {
   "cell_type": "markdown",
   "metadata": {},
   "source": [
    "## Load and preprocess the data"
   ]
  },
  {
   "cell_type": "raw",
   "metadata": {},
   "source": [
    "importlib.reload(data_utils);\n",
    "\n",
    "# Load the data and store in dictionary\n",
    "data_table = data_utils.load_data(\"/Users/jkamalu/Downloads/BosphorusDB\")\n",
    "\n",
    "# Extract lists from dictionary and create inverse index\n",
    "lookup_table, landmarks, face_data = data_utils.convert_data(data_table)\n",
    "\n",
    "# Trim the data of oversized images\n",
    "lookup_table, landmarks, face_data = trim_data(lookup_table, landmarks, face_data, h_cut=280, w_cut=210)\n",
    "\n",
    "# Analyze data shape distribution\n",
    "analyze_shape(face_data, 280, 210)\n",
    "\n",
    "# Pad the face data to max width and height\n",
    "face_data = data_utils.padding_data(face_data)\n",
    "\n",
    "# Convert to numpy arrays\n",
    "face_data = np.stack(face_data)\n",
    "landmarks = np.array(landmarks)\n",
    "\n",
    "# Adjust and scale all channels\n",
    "scaler, face_data = data_utils.scaling_data(face_data)\n",
    "\n",
    "# Visualize the face data before resizing and downsampling\n",
    "data_utils.visualize_z(face_data, z_channel=2)\n",
    "\n",
    "# Resize and downsample the images to 80 x 60 from 280, 210\n",
    "face_data = resize(face_data, (face_data.shape[0], 264, 192, face_data.shape[3]), preserve_range=True, mode=\"constant\", anti_aliasing=True)\n",
    "face_data = block_reduce(face_data, block_size=(1, 3, 3, 1), func=np.max)\n",
    "\n",
    "# Visualize the face data after resizing and downsampling\n",
    "data_utils.visualize_z(face_data, z_channel=2)"
   ]
  },
  {
   "cell_type": "code",
   "execution_count": null,
   "metadata": {},
   "outputs": [],
   "source": [
    "with open(\"./data/scaler.pkl\", \"rb\") as f:\n",
    "    scaler = pickle.load(f)\n",
    "with open(\"./data/table.pkl\", \"rb\") as f:\n",
    "    lookup_table = pickle.load(f)\n",
    "face_data = np.load(\"./data/face_data.npy\")\n",
    "landmarks = np.load(\"./data/landmarks.npy\")\n",
    "\n",
    "# Visualize the data\n",
    "data_utils.visualize_z(face_data, z_channel=2)"
   ]
  },
  {
   "cell_type": "markdown",
   "metadata": {},
   "source": [
    "## Train the model"
   ]
  },
  {
   "cell_type": "code",
   "execution_count": null,
   "metadata": {},
   "outputs": [],
   "source": [
    "importlib.reload(data_utils);\n",
    "importlib.reload(CGAN);"
   ]
  },
  {
   "cell_type": "code",
   "execution_count": null,
   "metadata": {},
   "outputs": [],
   "source": [
    "class Params:\n",
    "\n",
    "    drop_rate = 0.4\n",
    "    n_filters = 32\n",
    "    n_rand = 100\n",
    "    batch_size = 64\n",
    "    train_steps = 500\n",
    "    interval = 1\n",
    "    lr_D =  0.0001\n",
    "    lr_GD = 0.0002\n",
    "    \n",
    "    def __init__(self, X, X_cond=None):\n",
    "        _, self.W, self.H, self.n_channels = X.shape\n",
    "        _, self.n_cond = X_cond.shape if X_cond else (None, 0)"
   ]
  },
  {
   "cell_type": "code",
   "execution_count": null,
   "metadata": {},
   "outputs": [],
   "source": [
    "X = face_data[:, :, :, 2:3]\n",
    "network = CGAN.CGAN(Params(X))"
   ]
  },
  {
   "cell_type": "code",
   "execution_count": null,
   "metadata": {},
   "outputs": [],
   "source": [
    "# CHANGE SAVE SUFFIX MECHANISM\n",
    "def train(network, X, train_steps, prev_steps=0):\n",
    "    for step in range(train_steps):\n",
    "        X_real = X[np.random.randint(X.shape[0], size=(Params.batch_size)), :, : :]\n",
    "        X_fake = network.G.predict(np.random.uniform(size=(Params.batch_size, Params.n_rand)))\n",
    "        X_D = np.concatenate((X_real, X_fake))\n",
    "        Y_D = np.concatenate((np.ones((X_real.shape[0], 1)), np.zeros((X_fake.shape[0], 1))))\n",
    "        loss_D, acc_D = network.D.train_on_batch(X_D, Y_D)\n",
    "\n",
    "        for i in range(2):\n",
    "            X_GD = np.random.uniform(size=(Params.batch_size, Params.n_rand))\n",
    "            Y_GD = np.ones((X_GD.shape[0], 1))\n",
    "            loss_GD, acc_GD = network.GD.train_on_batch(X_GD, Y_GD)\n",
    "\n",
    "        if step % Params.interval == 0 and step > 0:\n",
    "            print(\"Step {}:\".format(step + prev_steps))\n",
    "            print()\n",
    "            data_utils.visualize_z(X_fake)\n",
    "            print()\n",
    "            print(\"Descriminator :: loss = {}, acc = {}\".format(loss_D, acc_D))\n",
    "            print(\"Adversarial   :: loss = {}, acc = {}\".format(loss_GD, acc_GD))\n",
    "\n",
    "        if step % 5 * Params.interval == 0 and step > 0:\n",
    "            clear_output(wait=True)\n",
    "    with open(\"./models/CGAN-{}-1D2G.pkl\".format(prev_steps + train_steps), \"wb\") as f:\n",
    "        pickle.dump(network, f)"
   ]
  },
  {
   "cell_type": "code",
   "execution_count": null,
   "metadata": {
    "scrolled": true
   },
   "outputs": [],
   "source": [
    "for i in range(5):\n",
    "    train(network, X, 200, prev_steps=3000 + i * 200)"
   ]
  },
  {
   "cell_type": "markdown",
   "metadata": {},
   "source": [
    "## Things to try\n",
    "\n",
    "* Penalize overconfidence by labeling real images with 0.9\n",
    "\n",
    "* Switch to Adam optimizer\n",
    "\n",
    "* Switch from max-pool and upsampling to convolution stride\n",
    "\n",
    "* Add conditional data to random noise (consider label as one hot) to account for different topology of the data, impede \"averaging\" of faces w.r.t. facial expressions.\n",
    "\n",
    "* Remove dropout from generator\n",
    "\n",
    "* Make discriminator more complex (harder to learn, smarter)"
   ]
  },
  {
   "cell_type": "code",
   "execution_count": null,
   "metadata": {
    "scrolled": false
   },
   "outputs": [],
   "source": [
    "for fname in sorted(os.listdir(\"./models/\")):\n",
    "    if fname.endswith(\".pkl\"):\n",
    "        with open(os.path.join(\"./models/\", fname), \"rb\") as f:\n",
    "            model = pickle.load(f)\n",
    "            X_fake = model.G.predict(np.random.uniform(size=(model.params.batch_size, model.params.n_rand)))\n",
    "            print(\"Model:\", fname)\n",
    "            data_utils.visualize_z(X_fake)\n",
    "            del model"
   ]
  },
  {
   "cell_type": "code",
   "execution_count": null,
   "metadata": {},
   "outputs": [],
   "source": []
  }
 ],
 "metadata": {
  "kernelspec": {
   "display_name": "Python [conda env:anaconda3]",
   "language": "python",
   "name": "conda-env-anaconda3-py"
  },
  "language_info": {
   "codemirror_mode": {
    "name": "ipython",
    "version": 3
   },
   "file_extension": ".py",
   "mimetype": "text/x-python",
   "name": "python",
   "nbconvert_exporter": "python",
   "pygments_lexer": "ipython3",
   "version": "3.5.6"
  }
 },
 "nbformat": 4,
 "nbformat_minor": 2
}
