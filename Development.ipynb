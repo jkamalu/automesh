{
 "cells": [
  {
   "cell_type": "code",
   "execution_count": null,
   "metadata": {},
   "outputs": [],
   "source": [
    "import os\n",
    "import re\n",
    "import importlib\n",
    "\n",
    "import numpy as np\n",
    "import matplotlib.pyplot as plt\n",
    "from sklearn.preprocessing import MinMaxScaler\n",
    "\n",
    "import data_utils\n",
    "\n",
    "# importlib.reload(data_utils)"
   ]
  },
  {
   "cell_type": "markdown",
   "metadata": {},
   "source": [
    "## Load and preprocess the data"
   ]
  },
  {
   "cell_type": "code",
   "execution_count": null,
   "metadata": {},
   "outputs": [],
   "source": [
    "path = \"/Users/jkamalu/Downloads/BosphorusDB\""
   ]
  },
  {
   "cell_type": "code",
   "execution_count": null,
   "metadata": {},
   "outputs": [],
   "source": [
    "# Load the data and store in dictionary\n",
    "\n",
    "lookup_table = data_utils.process_data(path)"
   ]
  },
  {
   "cell_type": "code",
   "execution_count": null,
   "metadata": {},
   "outputs": [],
   "source": [
    "# Extract ndarray from dictionary and create index\n",
    "\n",
    "lookup_table, landmarks, face_data = data_utils.convert_data(lookup_table)"
   ]
  },
  {
   "cell_type": "code",
   "execution_count": null,
   "metadata": {},
   "outputs": [],
   "source": [
    "# Pad the face data to max width and height with z_min\n",
    "\n",
    "w_max = max(x.shape[1] for x in face_data)\n",
    "h_max = max(x.shape[0] for x in face_data)\n",
    "z_min = min(np.min(x) for x in face_data)\n",
    "print(\"max dim:\", w_max, h_max)\n",
    "print(\"min z:\", z_min)\n",
    "\n",
    "for i, f in enumerate(face_data):\n",
    "    w_pad = (w_max - f.shape[1]) // 2\n",
    "    h_pad = (h_max - f.shape[0]) // 2\n",
    "    f_pad = ((h_pad, h_max - f.shape[0] - h_pad), (w_pad, w_max - f.shape[1] - w_pad), (0, 0))\n",
    "    face_data[i] = np.pad(f, f_pad, mode=\"constant\", constant_values=z_min)"
   ]
  },
  {
   "cell_type": "code",
   "execution_count": null,
   "metadata": {},
   "outputs": [],
   "source": [
    "# Convert to numpy arrays\n",
    "\n",
    "landmarks = np.array(landmarks)\n",
    "face_data = np.array(face_data)\n",
    "print(\"face_data shape:\", face_data.shape)"
   ]
  },
  {
   "cell_type": "code",
   "execution_count": null,
   "metadata": {},
   "outputs": [],
   "source": [
    "# Adjust and scale z channel\n",
    "\n",
    "N, W, H, channels = face_data.shape\n",
    "\n",
    "for i in range(face_data.shape[0]):\n",
    "    lowest, low = np.sort(np.unique(face_data[i, :, :, 2]))[:2]\n",
    "    face_data[i, :, :, 2][face_data[i, :, :, 2] == lowest] = low\n",
    "\n",
    "scaler = MinMaxScaler()\n",
    "scaler.fit(face_data[:, :, :, 2].reshape(-1, 1))\n",
    "scaled_z = scaler.transform(face_data[:, :, :, 2].reshape(-1, 1)).reshape((N, W, H))\n",
    "face_data[:, :, :, 2] = scaled_z"
   ]
  },
  {
   "cell_type": "code",
   "execution_count": null,
   "metadata": {},
   "outputs": [],
   "source": [
    "# Visualize the face data\n",
    "\n",
    "uid = \"bs000\"\n",
    "\n",
    "fig, axs = plt.subplots(nrows=3, ncols=4, figsize=(9, 6), subplot_kw={'xticks': [], 'yticks': []})\n",
    "fig.subplots_adjust(left=0.03, right=0.97, hspace=0.3, wspace=0.05)\n",
    "\n",
    "for ax, config in zip(axs.flat, lookup_table[uid]):\n",
    "    idx = lookup_table[uid][config]\n",
    "    ax.imshow(face_data[idx, :, :, 2])\n",
    "    ax.set_title(\"_\".join(config))\n",
    "\n",
    "plt.tight_layout()\n",
    "plt.show()"
   ]
  },
  {
   "cell_type": "raw",
   "metadata": {},
   "source": []
  }
 ],
 "metadata": {
  "kernelspec": {
   "display_name": "Python (automesh3)",
   "language": "python",
   "name": "automesh3"
  },
  "language_info": {
   "codemirror_mode": {
    "name": "ipython",
    "version": 3
   },
   "file_extension": ".py",
   "mimetype": "text/x-python",
   "name": "python",
   "nbconvert_exporter": "python",
   "pygments_lexer": "ipython3",
   "version": "3.6.6"
  }
 },
 "nbformat": 4,
 "nbformat_minor": 2
}
