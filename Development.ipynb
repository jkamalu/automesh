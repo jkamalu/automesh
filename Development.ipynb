{
 "cells": [
  {
   "cell_type": "code",
   "execution_count": null,
   "metadata": {},
   "outputs": [],
   "source": [
    "import os\n",
    "import re\n",
    "import importlib\n",
    "\n",
    "import numpy as np\n",
    "import matplotlib.pyplot as plt\n",
    "from sklearn.preprocessing import MinMaxScaler\n",
    "from skimage.measure import block_reduce\n",
    "from skimage.transform import resize\n",
    "\n",
    "import data_utils"
   ]
  },
  {
   "cell_type": "markdown",
   "metadata": {},
   "source": [
    "## Load and preprocess the data"
   ]
  },
  {
   "cell_type": "code",
   "execution_count": null,
   "metadata": {},
   "outputs": [],
   "source": [
    "importlib.reload(data_utils);"
   ]
  },
  {
   "cell_type": "code",
   "execution_count": null,
   "metadata": {},
   "outputs": [],
   "source": [
    "path = \"/Users/jkamalu/Downloads/BosphorusDB\"\n",
    "\n",
    "# Load the data and store in dictionary\n",
    "lookup_table = data_utils.load_data(path)\n",
    "\n",
    "# Extract lists from dictionary and create inverse index\n",
    "lookup_table, landmarks, face_data = data_utils.convert_data(lookup_table)\n",
    "\n",
    "# Pad the face data to max width and height\n",
    "data_utils.padding_data(face_data)\n",
    "\n",
    "# Convert to numpy arrays\n",
    "landmarks, face_data = map(np.array, (landmarks, face_data))"
   ]
  },
  {
   "cell_type": "code",
   "execution_count": null,
   "metadata": {},
   "outputs": [],
   "source": [
    "# Adjust and scale all channels\n",
    "\n",
    "N, W, H, channels = face_data.shape\n",
    "\n",
    "for i in range(face_data.shape[0]):\n",
    "    for channel in range(channels):\n",
    "        lowest, low = np.sort(np.unique(face_data[i, :, :, channel]))[:2]\n",
    "        face_data[i, :, :, channel][face_data[i, :, :, channel] == lowest] = low\n",
    "\n",
    "scaler = MinMaxScaler()\n",
    "scaler.fit(face_data[:, :, :, :].reshape(-1, channels))\n",
    "scaled_z = scaler.transform(face_data[:, :, :, :].reshape(-1, channels)).reshape((N, W, H, channels))\n",
    "face_data[:, :, :, :] = scaled_z"
   ]
  },
  {
   "cell_type": "code",
   "execution_count": null,
   "metadata": {},
   "outputs": [],
   "source": [
    "# Visualize the face data before resizing and downsampling\n",
    "data_utils.visualize_z(lookup_table, face_data)"
   ]
  },
  {
   "cell_type": "code",
   "execution_count": null,
   "metadata": {},
   "outputs": [],
   "source": [
    "# Resize and downsample the images to 80 x 60 from 267 x 194\n",
    "\n",
    "face_data = resize(face_data, (face_data.shape[0], 264, 192, face_data.shape[3]), preserve_range=True)\n",
    "face_data = block_reduce(face_data, block_size=(1, 3, 3, 1), func=np.max)\n",
    "print(\"face_data.shape:\", face_data.shape)"
   ]
  },
  {
   "cell_type": "code",
   "execution_count": null,
   "metadata": {},
   "outputs": [],
   "source": [
    "# Visualize the face data after resizing and downsampling\n",
    "data_utils.visualize_z(lookup_table, face_data)"
   ]
  },
  {
   "cell_type": "markdown",
   "metadata": {},
   "source": [
    "## Build the model"
   ]
  },
  {
   "cell_type": "code",
   "execution_count": null,
   "metadata": {},
   "outputs": [],
   "source": [
    "from keras import Model, Sequential\n",
    "from keras.layers import Input, Dense, Dropout, BatchNormalization\n",
    "from keras.layers import Conv2D, MaxPooling2D, Conv2DTranspose, UpSampling2D\n",
    "from keras.layers import Flatten, Reshape\n",
    "from keras import backend as K"
   ]
  },
  {
   "cell_type": "code",
   "execution_count": null,
   "metadata": {},
   "outputs": [],
   "source": [
    "class Params:\n",
    "\n",
    "    drop_rate = 0.2\n",
    "    n_filters = 32\n",
    "    n_rand = 100\n",
    "    \n",
    "    def __init__(self, X, X_cond=None):\n",
    "        _, self.W, self.H, self.n_channels = X.shape\n",
    "        _, self.n_cond = X_cond.shape if X_cond else (None, 0)"
   ]
  },
  {
   "cell_type": "code",
   "execution_count": null,
   "metadata": {},
   "outputs": [],
   "source": [
    "class CGAN:\n",
    "    \n",
    "    def __init__(self, params):\n",
    "        self.params = params\n",
    "        self.build_D()\n",
    "        self.build_G()\n",
    "        self.build_GD()\n",
    "        self.compile_all()\n",
    "    \n",
    "    def build_D(self):\n",
    "        d_input = Input((self.params.W, params.H, params.n_channels))\n",
    "        \n",
    "        d_layer = Conv2D(self.params.n_filters, (4, 4), padding=\"same\", activation=\"relu\")(d_input)\n",
    "        d_layer = MaxPooling2D()(d_layer)\n",
    "        d_layer = Dropout(rate=self.params.drop_rate)(d_layer)\n",
    "        \n",
    "        d_layer = Conv2D(self.params.n_filters * 2, (4, 4), padding=\"same\", activation=\"relu\")(d_layer)\n",
    "        d_layer = MaxPooling2D()(d_layer)\n",
    "        d_layer = Dropout(rate=self.params.drop_rate)(d_layer)\n",
    "        \n",
    "        d_layer = Conv2D(self.params.n_filters * 4, (4, 4), padding=\"same\", activation=\"relu\")(d_layer)\n",
    "        d_layer = MaxPooling2D()(d_layer)\n",
    "        d_layer = Dropout(rate=self.params.drop_rate)(d_layer)        \n",
    "        \n",
    "        d_layer = Flatten()(d_layer)\n",
    "        d_layer = Dense(1)(d_layer)\n",
    "        \n",
    "        self.D = Model(inputs=d_input, outputs=d_layer)\n",
    "        \n",
    "        return self.D\n",
    "        \n",
    "    def build_G(self):\n",
    "        g_input = Input((self.params.n_rand + self.params.n_cond, ))\n",
    "        \n",
    "        g_layer = Dense((self.params.W // 8) * \n",
    "                        (self.params.H // 8) *\n",
    "                        self.params.n_filters * 8, activation=\"relu\")(g_input)\n",
    "        g_layer = BatchNormalization()(g_layer)\n",
    "        g_layer = Reshape((self.params.W // 8, \n",
    "                          self.params.H // 8,\n",
    "                          self.params.n_filters * 8))(g_layer)\n",
    "        g_layer = Dropout(rate=self.params.drop_rate)(g_layer)\n",
    "        \n",
    "        g_layer = UpSampling2D()(g_layer)\n",
    "        g_layer = Conv2DTranspose(self.params.n_filters * 4, (4, 4), padding=\"same\", activation=\"relu\")(g_layer)\n",
    "        g_layer = BatchNormalization()(g_layer)\n",
    "        g_layer = Dropout(rate=self.params.drop_rate)(g_layer)\n",
    "        \n",
    "        g_layer = UpSampling2D()(g_layer)\n",
    "        g_layer = Conv2DTranspose(self.params.n_filters * 2, (4, 4), padding=\"same\", activation=\"relu\")(g_layer)\n",
    "        g_layer = BatchNormalization()(g_layer)\n",
    "        g_layer = Dropout(rate=self.params.drop_rate)(g_layer)        \n",
    "        \n",
    "        g_layer = UpSampling2D()(g_layer)\n",
    "        g_layer = Conv2DTranspose(self.params.n_filters, (4, 4), padding=\"same\", activation=\"relu\")(g_layer)\n",
    "        g_layer = BatchNormalization()(g_layer)\n",
    "        g_layer = Dropout(rate=self.params.drop_rate)(g_layer)        \n",
    "        \n",
    "        g_layer = Conv2DTranspose(self.params.n_channels, (4, 4), padding=\"same\", activation=\"sigmoid\")(g_layer)\n",
    "        g_layer = BatchNormalization()(g_layer)\n",
    "        g_layer = Dropout(rate=self.params.drop_rate)(g_layer)\n",
    "        \n",
    "        g_image = g_layer\n",
    "        \n",
    "        self.G = Model(inputs=g_input, outputs=g_image)\n",
    "        \n",
    "        return self.G\n",
    "        \n",
    "    def build_GD(self):\n",
    "        self.GD = Sequential()\n",
    "        \n",
    "        self.GD.add(self.G)\n",
    "        \n",
    "        self.D.trainable = False\n",
    "        self.GD.add(self.D)\n",
    "        \n",
    "        return self.GD\n",
    "    \n",
    "    def compile_all(self):\n",
    "        self.D.compile(optimizer=\"sgd\", loss=\"binary_crossentropy\", metrics=[\"accuracy\"])\n",
    "        \n",
    "        self.GD.compile(optimizer=\"sgd\", loss=\"binary_crossentropy\", metrics=[\"accuracy\"])"
   ]
  },
  {
   "cell_type": "code",
   "execution_count": null,
   "metadata": {},
   "outputs": [],
   "source": [
    "params = Params(face_data[:, :, :, :3])\n",
    "cgan = CGAN(params)"
   ]
  }
 ],
 "metadata": {
  "kernelspec": {
   "display_name": "Python (automesh3)",
   "language": "python",
   "name": "automesh3"
  },
  "language_info": {
   "codemirror_mode": {
    "name": "ipython",
    "version": 3
   },
   "file_extension": ".py",
   "mimetype": "text/x-python",
   "name": "python",
   "nbconvert_exporter": "python",
   "pygments_lexer": "ipython3",
   "version": "3.6.6"
  }
 },
 "nbformat": 4,
 "nbformat_minor": 2
}
