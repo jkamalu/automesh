{
 "cells": [
  {
   "cell_type": "code",
   "execution_count": null,
   "metadata": {},
   "outputs": [],
   "source": [
    "import os\n",
    "import re\n",
    "import copy\n",
    "import pickle\n",
    "import datetime\n",
    "from collections import deque\n",
    "\n",
    "import numpy as np\n",
    "import matplotlib.pyplot as plt\n",
    "from skimage.measure import block_reduce\n",
    "from skimage.transform import resize\n",
    "\n",
    "import importlib\n",
    "from IPython.display import clear_output\n",
    "\n",
    "import data_utils\n",
    "import CGAN\n",
    "import Params"
   ]
  },
  {
   "cell_type": "markdown",
   "metadata": {},
   "source": [
    "### Load the data"
   ]
  },
  {
   "cell_type": "code",
   "execution_count": null,
   "metadata": {},
   "outputs": [],
   "source": [
    "with open(\"./data/lossy/table.pkl\", \"rb\") as f:\n",
    "    lookup_table = pickle.load(f)\n",
    "face_data = np.load(\"./data/lossy/face_data.npy\")\n",
    "landmarks = np.load(\"./data/lossy/landmarks.npy\")\n",
    "labels = np.load(\"./data/lossy/labels.npy\")"
   ]
  },
  {
   "cell_type": "code",
   "execution_count": null,
   "metadata": {},
   "outputs": [],
   "source": [
    "label_set, index_set = np.unique(labels, return_inverse=True)\n",
    "\n",
    "label_mat = np.zeros((face_data.shape[0], len(label_set)))\n",
    "label_mat[np.arange(face_data.shape[0]), index_set] = 1\n",
    "\n",
    "X = face_data[:, :, :, 2:3]\n",
    "X_cond = label_mat"
   ]
  },
  {
   "cell_type": "code",
   "execution_count": null,
   "metadata": {},
   "outputs": [],
   "source": [
    "label = 7\n",
    "print(\"Expression {}: {}\".format(label, label_set[label]))\n",
    "data_utils.visualize_z(X[np.nonzero(X_cond[:, label] == 1)], z_channel=0)"
   ]
  },
  {
   "cell_type": "markdown",
   "metadata": {},
   "source": [
    "### Train"
   ]
  },
  {
   "cell_type": "code",
   "execution_count": null,
   "metadata": {},
   "outputs": [],
   "source": [
    "def train(M, X, X_cond=None, train_steps=20, prev_steps=0, prev_hist=None, interval=5, suffix=\"Recent\"):\n",
    "    \n",
    "    with open(\"./models/CGAN-{}-config.txt\".format(suffix), \"wt\") as f:\n",
    "        f.write(str(M))\n",
    "    \n",
    "    if prev_hist is None:\n",
    "        history = {\n",
    "            \"loss_D_real\": [],\n",
    "            \"loss_D_fake\": [],\n",
    "            \"loss_GD\": [],\n",
    "            \"acc_D_real\": [],\n",
    "            \"acc_D_fake\": [],\n",
    "            \"acc_GD\": []\n",
    "        }\n",
    "    else:\n",
    "        history = prev_hist\n",
    "    \n",
    "    for step in range(1, train_steps + 1):\n",
    "\n",
    "        # Train the discriminator\n",
    "        for i in range(M.params.steps_D):\n",
    "            \n",
    "            indices = np.random.randint(X.shape[0], size=(M.params.batch_size))\n",
    "            noise = np.random.uniform(size=(M.params.batch_size, M.params.n_rand))\n",
    "            if X_cond is None:\n",
    "                z = noise\n",
    "            else:\n",
    "                z = np.concatenate([noise, X_cond[indices]], axis=1)\n",
    "                \n",
    "            X_real = X[indices]\n",
    "            X_fake = M.G.predict(z)\n",
    "            \n",
    "            Y_real = np.zeros((X_real.shape[0], 1)) + M.params.real_l\n",
    "            Y_fake = np.zeros((X_fake.shape[0], 1)) + M.params.fake_l\n",
    "\n",
    "            loss_D_real, acc_D_real = M.D.train_on_batch(X_real, Y_real)\n",
    "            loss_D_fake, acc_D_fake = M.D.train_on_batch(X_fake, Y_fake)\n",
    "\n",
    "        # Train the generator\n",
    "        for i in range(M.params.steps_GD):\n",
    "            \n",
    "            noise = np.random.uniform(size=(M.params.batch_size, M.params.n_rand))\n",
    "            if X_cond is None:\n",
    "                X_GD = noise\n",
    "            else:\n",
    "                label_mat = np.zeros((M.params.batch_size, X_cond.shape[1]))\n",
    "                label_idx = np.random.randint(X_cond.shape[1], size=(M.params.batch_size))\n",
    "                label_mat[np.arange(M.params.batch_size), label_idx] = 1\n",
    "                X_GD = np.concatenate([noise, label_mat], axis=1)\n",
    "\n",
    "            Y_GD = np.zeros((X_GD.shape[0], 1)) + M.params.real_l\n",
    "            loss_GD, acc_GD = M.GD.train_on_batch(X_GD, Y_GD)\n",
    "            \n",
    "        # Update history for statistics\n",
    "        history[\"loss_D_real\"].append(loss_D_real)\n",
    "        history[\"loss_D_fake\"].append(loss_D_fake)\n",
    "        history[\"loss_GD\"].append(loss_GD)\n",
    "        history[\"acc_D_real\"].append(acc_D_real)\n",
    "        history[\"acc_D_fake\"].append(acc_D_fake)\n",
    "        history[\"acc_GD\"].append(acc_GD)\n",
    "\n",
    "        # Clear the display output and display window statistics (graph)\n",
    "        if step % (10 * interval) == 0:\n",
    "            clear_output(wait=True)\n",
    "            # data_utils.visualize_history(history)\n",
    "\n",
    "        # Print window statistics\n",
    "        if step % interval == 0:\n",
    "            print(\"Step {}:\".format(step + prev_steps))\n",
    "\n",
    "            data_utils.visualize_z(X_fake)\n",
    "\n",
    "            print(\"Descriminator (real) :: loss = {}, acc = {}\".format(np.mean(history[\"loss_D_real\"][-10:]),\n",
    "                                                                       np.mean(history[\"acc_D_real\"][-10:])))\n",
    "            print(\"Descriminator (fake) :: loss = {}, acc = {}\".format(np.mean(history[\"loss_D_fake\"][-10:]),\n",
    "                                                                       np.mean(history[\"acc_D_fake\"][-10:])))\n",
    "            print(\"Adversarial          :: loss = {}, acc = {}\".format(np.mean(history[\"loss_GD\"][-10:]),\n",
    "                                                                       np.mean(history[\"acc_GD\"][-10:])))\n",
    "            print()\n",
    "        \n",
    "        if (step + prev_steps) % 500 == 0:\n",
    "            with open(\"./models/CGAN-{}-{}-model.pkl\".format(suffix, step + prev_steps), \"wb\") as f:\n",
    "                pickle.dump(M, f)\n",
    "            with open(\"./models/CGAN-{}-{}-history.pkl\".format(suffix, step + prev_steps), \"wb\") as f:\n",
    "                pickle.dump(history, f)\n",
    "\n",
    "    return history"
   ]
  },
  {
   "cell_type": "code",
   "execution_count": null,
   "metadata": {},
   "outputs": [],
   "source": [
    "network = CGAN.CGAN(Params.Params(X, X_cond))"
   ]
  },
  {
   "cell_type": "code",
   "execution_count": null,
   "metadata": {
    "scrolled": false
   },
   "outputs": [],
   "source": [
    "history = train(network, \n",
    "                X, \n",
    "                X_cond, \n",
    "                interval=50,\n",
    "                train_steps=3600, \n",
    "                prev_steps=6400, \n",
    "                prev_hist=history, \n",
    "                suffix=\"dcgan_cond_lossy\")"
   ]
  },
  {
   "cell_type": "code",
   "execution_count": null,
   "metadata": {},
   "outputs": [],
   "source": [
    "data_utils.visualize_history(history, window=100, n_points=600, power=2)"
   ]
  },
  {
   "cell_type": "markdown",
   "metadata": {},
   "source": [
    "#### Test"
   ]
  },
  {
   "cell_type": "code",
   "execution_count": null,
   "metadata": {},
   "outputs": [],
   "source": [
    "def test(M, labels=[0]):\n",
    "    \n",
    "    fakes = []\n",
    "    for i in labels:\n",
    "        label_mat = np.zeros((network.params.batch_size, network.params.n_cond))\n",
    "        label_idx = np.vstack(np.zeros(network.params.batch_size) + i).astype(np.int32)\n",
    "        label_mat[np.arange(network.params.batch_size), label_idx] = 1\n",
    "\n",
    "        noise = np.random.uniform(size=(network.params.batch_size, network.params.n_rand))\n",
    "        noise = np.concatenate([noise, label_mat], axis=1)\n",
    "\n",
    "        fake_data = network.G.predict(noise)\n",
    "        fake_pred = network.D.predict(fake_data)\n",
    "        indices = sorted(range(fake_pred.shape[0]), key=lambda x: fake_pred[x], reverse=True)\n",
    "\n",
    "        fakes.append((fake_data[indices], face_pres[indices]))\n",
    "        \n",
    "        data_utils.visualize_z(fake_data[indices][-2:])\n",
    "    \n",
    "    return fakes"
   ]
  },
  {
   "cell_type": "code",
   "execution_count": null,
   "metadata": {},
   "outputs": [],
   "source": [
    "with open(\"./models/CGAN-dcgan_cond_noisy/CGAN-dcgan_cond_noisy-6000-model.pkl\", \"rb\") as f:\n",
    "    network = pickle.load(f)"
   ]
  },
  {
   "cell_type": "code",
   "execution_count": null,
   "metadata": {},
   "outputs": [],
   "source": [
    "fakes = test(network)"
   ]
  },
  {
   "cell_type": "code",
   "execution_count": null,
   "metadata": {},
   "outputs": [],
   "source": [
    "data_utils.visualize_history(history, window=100, n_points=600, power=2)"
   ]
  }
 ],
 "metadata": {
  "kernelspec": {
   "display_name": "Python 3",
   "language": "python",
   "name": "python3"
  },
  "language_info": {
   "codemirror_mode": {
    "name": "ipython",
    "version": 3
   },
   "file_extension": ".py",
   "mimetype": "text/x-python",
   "name": "python",
   "nbconvert_exporter": "python",
   "pygments_lexer": "ipython3",
   "version": "3.7.1"
  }
 },
 "nbformat": 4,
 "nbformat_minor": 2
}
