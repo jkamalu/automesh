{
 "cells": [
  {
   "cell_type": "code",
   "execution_count": 27,
   "metadata": {},
   "outputs": [],
   "source": [
    "import os\n",
    "import re\n",
    "import struct\n",
    "import pickle\n",
    "import importlib\n",
    "\n",
    "import numpy as np\n",
    "import matplotlib.pyplot as plt\n",
    "from sklearn.preprocessing import MinMaxScaler\n",
    "\n",
    "import data_utils\n",
    "from skimage.measure import block_reduce\n",
    "from skimage.transform import resize"
   ]
  },
  {
   "cell_type": "markdown",
   "metadata": {},
   "source": [
    "### Data pipeline"
   ]
  },
  {
   "cell_type": "raw",
   "metadata": {},
   "source": [
    "importlib.reload(data_utils);\n",
    "\n",
    "# Load the data and store in dictionary\n",
    "data_table = data_utils.load_data(\"/Users/jkamalu/Downloads/BosphorusDB\")\n",
    "\n",
    "# Extract lists from dictionary and create inverse index\n",
    "lookup_table, landmarks, face_data = data_utils.convert_data(data_table)\n",
    "\n",
    "# Trim the data of oversized images\n",
    "lookup_table, landmarks, face_data = data_utils.trim_data(lookup_table, landmarks, face_data, h_cut=280, w_cut=210)\n",
    "\n",
    "# Analyze data shape distribution\n",
    "data_utils.analyze_shape(face_data, 280, 210)\n",
    "\n",
    "# Pad the face data to max width and height\n",
    "face_data = data_utils.padding_data(face_data)\n",
    "\n",
    "# Convert to numpy arrays\n",
    "face_data = np.stack(face_data)\n",
    "landmarks = np.array(landmarks)\n",
    "\n",
    "# Adjust and scale all channels\n",
    "face_data = data_utils.scaling_data(face_data)\n",
    "\n",
    "# Visualize the face data before resizing and downsampling\n",
    "data_utils.visualize_z(face_data, z_channel=2)\n",
    "\n",
    "# Resize and downsample the images to 80 x 60 from 280, 210\n",
    "face_data = resize(face_data, (face_data.shape[0], 264, 192, face_data.shape[3]), preserve_range=True, mode=\"constant\", anti_aliasing=True)\n",
    "face_data = block_reduce(face_data, block_size=(1, 3, 3, 1), func=np.max)\n",
    "\n",
    "# Visualize the face data after resizing and downsampling\n",
    "data_utils.visualize_z(face_data, z_channel=2)\n",
    "\n",
    "# Extract face expression labels\n",
    "labels = data_utils.label_data(face_data, lookup_table)\n",
    "\n",
    "# Save data to disk\n",
    "with open(\"./data/lossy/table.pkl\", \"wb\") as f:\n",
    "    pickle.dump(lookup_table, f)\n",
    "np.save(\"./data/lossy/face_data\", face_data)\n",
    "np.save(\"./data/lossy/landmarks.npy\", landmarks)\n",
    "np.save(\"./data/lossy/labels.npy\", labels)"
   ]
  }
 ],
 "metadata": {
  "kernelspec": {
   "display_name": "Python (automesh3)",
   "language": "python",
   "name": "automesh3"
  },
  "language_info": {
   "codemirror_mode": {
    "name": "ipython",
    "version": 3
   },
   "file_extension": ".py",
   "mimetype": "text/x-python",
   "name": "python",
   "nbconvert_exporter": "python",
   "pygments_lexer": "ipython3",
   "version": "3.6.6"
  }
 },
 "nbformat": 4,
 "nbformat_minor": 2
}
