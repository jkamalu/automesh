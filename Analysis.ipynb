{
 "cells": [
  {
   "cell_type": "code",
   "execution_count": null,
   "metadata": {},
   "outputs": [],
   "source": [
    "for fname in sorted(os.listdir(\"./models/\")):\n",
    "    if fname.endswith(\".pkl\"):\n",
    "        with open(os.path.join(\"./models/\", fname), \"rb\") as f:\n",
    "            model = pickle.load(f)\n",
    "            X_fake = model.G.predict(np.random.uniform(size=(model.params.batch_size, model.params.n_rand)))\n",
    "            print(\"Model:\", fname)\n",
    "            data_utils.visualize_z(X_fake)\n",
    "            del model"
   ]
  }
 ],
 "metadata": {
  "kernelspec": {
   "display_name": "Python (nlp_labs)",
   "language": "python",
   "name": "nlp_labs"
  },
  "language_info": {
   "codemirror_mode": {
    "name": "ipython",
    "version": 3
   },
   "file_extension": ".py",
   "mimetype": "text/x-python",
   "name": "python",
   "nbconvert_exporter": "python",
   "pygments_lexer": "ipython3",
   "version": "3.6.6"
  }
 },
 "nbformat": 4,
 "nbformat_minor": 2
}
